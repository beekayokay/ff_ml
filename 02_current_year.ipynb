{
 "cells": [
  {
   "cell_type": "code",
   "execution_count": null,
   "metadata": {},
   "outputs": [],
   "source": [
    "# import modules\n",
    "import os\n",
    "from dotenv import load_dotenv\n",
    "import sqlite3\n",
    "from sqlite3 import Error\n",
    "import pandas as pd\n",
    "\n",
    "load_dotenv()"
   ]
  },
  {
   "cell_type": "code",
   "execution_count": null,
   "metadata": {},
   "outputs": [],
   "source": [
    "pd.set_option('display.width', 1000)"
   ]
  },
  {
   "cell_type": "code",
   "execution_count": null,
   "metadata": {},
   "outputs": [],
   "source": [
    "# constants\n",
    "ROOT_DIR = os.getenv('FILES_DIR')\n",
    "YEAR = 2024\n",
    "QB_PROJ_FILE = f'{ROOT_DIR}/projections/qb_{YEAR}.csv'\n",
    "RB_PROJ_FILE = f'{ROOT_DIR}/projections/rb_{YEAR}.csv'\n",
    "WR_PROJ_FILE = f'{ROOT_DIR}/projections/wr_{YEAR}.csv'\n",
    "TE_PROJ_FILE = f'{ROOT_DIR}/projections/te_{YEAR}.csv'\n",
    "RANKING_FILE = f'{ROOT_DIR}/rankings/{YEAR}.csv'\n",
    "ADP_HALF_FILE = f'{ROOT_DIR}/adp/{YEAR}_half.csv'\n",
    "ADP_STD_FILE = f'{ROOT_DIR}/adp/{YEAR}_std.csv'\n",
    "ADP_PPR_FILE = f'{ROOT_DIR}/adp/{YEAR}_ppr.csv'"
   ]
  },
  {
   "cell_type": "code",
   "execution_count": null,
   "metadata": {},
   "outputs": [],
   "source": [
    "# points per stat\n",
    "PASS_YD_PTS = 0.04\n",
    "PASS_TD_PTS = 5\n",
    "PASS_INT_PTS = -2\n",
    "RUSH_YD_PTS = 0.1\n",
    "RUSH_TD_PTS = 6\n",
    "REC_PTS = 0.5\n",
    "REC_YD_PTS = 0.1\n",
    "REC_TD_PTS = 6\n",
    "FL_PTS = -2"
   ]
  },
  {
   "cell_type": "code",
   "execution_count": null,
   "metadata": {},
   "outputs": [],
   "source": [
    "# qb projections\n",
    "try:\n",
    "    df_csv = pd.read_csv(QB_PROJ_FILE)\n",
    "    col_list = ['Player', 'Team', 'ATT', 'CMP', 'YDS', 'TDS', 'INTS', 'ATT.1', 'YDS.1', 'TDS.1', 'FL']\n",
    "    col_rename = {\n",
    "        'Player': 'plyr',\n",
    "        'Team': 'team',\n",
    "        'ATT': 'pass_att',\n",
    "        'CMP': 'pass_cmp',\n",
    "        'YDS': 'pass_yd',\n",
    "        'TDS': 'pass_td',\n",
    "        'INTS': 'pass_int',\n",
    "        'ATT.1': 'rush_att',\n",
    "        'YDS.1': 'rush_yd',\n",
    "        'TDS.1': 'rush_td',\n",
    "        'FL': 'fl'\n",
    "    }\n",
    "    qb_df = df_csv[col_list].copy()\n",
    "    qb_df.rename(columns=col_rename, inplace=True)\n",
    "    qb_df['year'] = str(YEAR)\n",
    "    qb_df['pos'] = 'qb'\n",
    "    qb_df['year-plyr-pos'] = qb_df['year'] + '-' + qb_df['plyr'] + '-' + qb_df['pos']\n",
    "    qb_df['year-plyr-pos-team'] = qb_df['year'] + '-' + qb_df['plyr'] + '-' + qb_df['pos'] + '-' + qb_df['team']\n",
    "    qb_df = qb_df.replace(',','',regex=True)\n",
    "except FileNotFoundError:\n",
    "    qb_df = pd.DataFrame()\n",
    "print(qb_df.head(5))\n",
    "print(qb_df.shape)"
   ]
  },
  {
   "cell_type": "code",
   "execution_count": null,
   "metadata": {},
   "outputs": [],
   "source": [
    "# rb projections\n",
    "try:\n",
    "    df_csv = pd.read_csv(RB_PROJ_FILE)\n",
    "    col_list = ['Player', 'Team', 'ATT', 'YDS', 'TDS', 'REC', 'YDS.1', 'TDS.1', 'FL']\n",
    "    col_rename = {\n",
    "        'Player': 'plyr',\n",
    "        'Team': 'team',\n",
    "        'ATT': 'rush_att',\n",
    "        'YDS': 'rush_yd',\n",
    "        'TDS': 'rush_td',\n",
    "        'REC': 'rec',\n",
    "        'YDS.1': 'rec_yd',\n",
    "        'TDS.1': 'rec_td',\n",
    "        'FL': 'fl'\n",
    "    }\n",
    "    rb_df = df_csv[col_list].copy()\n",
    "    rb_df.rename(columns=col_rename, inplace=True)\n",
    "    rb_df['year'] = str(YEAR)\n",
    "    rb_df['pos'] = 'rb'\n",
    "    rb_df['year-plyr-pos'] = rb_df['year'] + '-' + rb_df['plyr'] + '-' + rb_df['pos']\n",
    "    rb_df['year-plyr-pos-team'] = rb_df['year'] + '-' + rb_df['plyr'] + '-' + rb_df['pos'] + '-' + rb_df['team']\n",
    "    rb_df = rb_df.replace(',','',regex=True)\n",
    "except FileNotFoundError:\n",
    "    rb_df = pd.DataFrame()\n",
    "print(rb_df.head(5))\n",
    "print(rb_df.shape)"
   ]
  },
  {
   "cell_type": "code",
   "execution_count": null,
   "metadata": {},
   "outputs": [],
   "source": [
    "# wr projections\n",
    "try:\n",
    "    df_csv = pd.read_csv(WR_PROJ_FILE)\n",
    "    col_list = ['Player', 'Team', 'REC', 'YDS', 'TDS', 'ATT', 'YDS.1', 'TDS.1', 'FL']\n",
    "    col_rename = {\n",
    "        'Player': 'plyr',\n",
    "        'Team': 'team',\n",
    "        'REC': 'rec',\n",
    "        'YDS': 'rec_yd',\n",
    "        'TDS': 'rec_td',\n",
    "        'ATT': 'rush_att',\n",
    "        'YDS.1': 'rush_yd',\n",
    "        'TDS.1': 'rush_td',\n",
    "        'FL': 'fl'\n",
    "    }\n",
    "    wr_df = df_csv[col_list].copy()\n",
    "    wr_df.rename(columns=col_rename, inplace=True)\n",
    "    wr_df['year'] = str(YEAR)\n",
    "    wr_df['pos'] = 'wr'\n",
    "    wr_df['year-plyr-pos'] = wr_df['year'] + '-' + wr_df['plyr'] + '-' + wr_df['pos']\n",
    "    wr_df['year-plyr-pos-team'] = wr_df['year'] + '-' + wr_df['plyr'] + '-' + wr_df['pos'] + '-' + wr_df['team']\n",
    "    wr_df = wr_df.replace(',','',regex=True)\n",
    "except FileNotFoundError:\n",
    "    wr_df = pd.DataFrame()\n",
    "print(wr_df.head(5))\n",
    "print(wr_df.shape)"
   ]
  },
  {
   "cell_type": "code",
   "execution_count": null,
   "metadata": {},
   "outputs": [],
   "source": [
    "# te projections\n",
    "try:\n",
    "    df_csv = pd.read_csv(TE_PROJ_FILE)\n",
    "    col_list = ['Player', 'Team', 'REC', 'YDS', 'TDS', 'FL']\n",
    "    col_rename = {\n",
    "        'Player': 'plyr',\n",
    "        'Team': 'team',\n",
    "        'REC': 'rec',\n",
    "        'YDS': 'rec_yd',\n",
    "        'TDS': 'rec_td',\n",
    "        'FL': 'fl'\n",
    "    }\n",
    "    te_df = df_csv[col_list].copy()\n",
    "    te_df.rename(columns=col_rename, inplace=True)\n",
    "    te_df['year'] = str(YEAR)\n",
    "    te_df['pos'] = 'te'\n",
    "    te_df['year-plyr-pos'] = te_df['year'] + '-' + te_df['plyr'] + '-' + te_df['pos']\n",
    "    te_df['year-plyr-pos-team'] = te_df['year'] + '-' + te_df['plyr'] + '-' + te_df['pos'] + '-' + te_df['team']\n",
    "    te_df = te_df.replace(',','',regex=True)\n",
    "except FileNotFoundError:\n",
    "    te_df = pd.DataFrame()\n",
    "print(te_df.head(5))\n",
    "print(te_df.shape)"
   ]
  },
  {
   "cell_type": "code",
   "execution_count": null,
   "metadata": {},
   "outputs": [],
   "source": [
    "# combine positional projections to one df\n",
    "PROJ_COLUMNS = [\n",
    "    'year', 'plyr', 'pos', 'team', 'year-plyr-pos', 'year-plyr-pos-team',\n",
    "    'pass_att', 'pass_cmp', 'pass_yd', 'pass_td', 'pass_int',\n",
    "    'rush_att', 'rush_yd', 'rush_td',\n",
    "    'rec', 'rec_yd', 'rec_td',\n",
    "    'fl'\n",
    "]\n",
    "proj_df = pd.DataFrame(columns=PROJ_COLUMNS)\n",
    "proj_df = pd.concat([proj_df, qb_df, rb_df, wr_df, te_df])\n",
    "proj_df.fillna(0, inplace=True)\n",
    "proj_df.set_index('year-plyr-pos-team', inplace=True)\n",
    "proj_df = proj_df[proj_df['team'] != 0]\n",
    "\n",
    "print(proj_df.head(5))\n",
    "print(proj_df.shape)"
   ]
  },
  {
   "cell_type": "code",
   "execution_count": null,
   "metadata": {},
   "outputs": [],
   "source": [
    "# make sure columns are correct dtypes\n",
    "for column in list(proj_df.columns):\n",
    "    try:\n",
    "        proj_df = proj_df.astype({column: 'float32'})\n",
    "    except ValueError:\n",
    "        continue\n",
    "proj_df.dtypes"
   ]
  },
  {
   "cell_type": "code",
   "execution_count": null,
   "metadata": {},
   "outputs": [],
   "source": [
    "# add relative stats to proj\n",
    "proj_df['team_pass_att'] = proj_df.apply(lambda x: proj_df[proj_df['team'] == x['team']]['pass_att'].sum(), axis=1)\n",
    "proj_df['pass_att_share'] = proj_df.apply(lambda x: x['pass_att']/x['team_pass_att'], axis=1)\n",
    "proj_df['team_pass_cmp'] = proj_df.apply(lambda x: proj_df[proj_df['team'] == x['team']]['pass_cmp'].sum(), axis=1)\n",
    "proj_df['pass_cmp_share'] = proj_df.apply(lambda x: x['pass_cmp']/x['team_pass_cmp'], axis=1)\n",
    "proj_df['team_pass_td'] = proj_df.apply(lambda x: proj_df[proj_df['team'] == x['team']]['pass_td'].sum(), axis=1)\n",
    "proj_df['pass_td_share'] = proj_df.apply(lambda x: x['pass_td']/x['team_pass_td'], axis=1)\n",
    "proj_df['team_rush_att'] = proj_df.apply(lambda x: proj_df[proj_df['team'] == x['team']]['rush_att'].sum(), axis=1)\n",
    "proj_df['rush_att_share'] = proj_df.apply(lambda x: x['rush_att']/x['team_rush_att'], axis=1)\n",
    "proj_df['team_rush_yd'] = proj_df.apply(lambda x: proj_df[proj_df['team'] == x['team']]['rush_yd'].sum(), axis=1)\n",
    "proj_df['rush_yd_share'] = proj_df.apply(lambda x: x['rush_yd']/x['team_rush_yd'], axis=1)\n",
    "proj_df['team_rush_td'] = proj_df.apply(lambda x: proj_df[proj_df['team'] == x['team']]['rush_td'].sum(), axis=1)\n",
    "proj_df['rush_td_share'] = proj_df.apply(lambda x: x['rush_td']/x['team_rush_td'], axis=1)\n",
    "proj_df['team_rec'] = proj_df.apply(lambda x: proj_df[proj_df['team'] == x['team']]['rec'].sum(), axis=1)\n",
    "proj_df['rec_share'] = proj_df.apply(lambda x: x['rec']/x['team_rec'], axis=1)\n",
    "proj_df['team_rec_yd'] = proj_df.apply(lambda x: proj_df[proj_df['team'] == x['team']]['rec_yd'].sum(), axis=1)\n",
    "proj_df['rec_yd_share'] = proj_df.apply(lambda x: x['rec_yd']/x['team_rec_yd'], axis=1)\n",
    "proj_df['team_rec_td'] = proj_df.apply(lambda x: proj_df[proj_df['team'] == x['team']]['rec_td'].sum(), axis=1)\n",
    "proj_df['rec_td_share'] = proj_df.apply(lambda x: x['rec_td']/x['team_rec_td'], axis=1)\n",
    "proj_df['non_pass_td'] = proj_df['rush_td'] + proj_df['rec_td']\n",
    "proj_df['team_non_pass_td'] = proj_df.apply(lambda x: proj_df[proj_df['team'] == x['team']]['non_pass_td'].sum(), axis=1)\n",
    "proj_df['non_pass_td_share'] = proj_df.apply(lambda x: x['non_pass_td']/x['team_non_pass_td'], axis=1)\n",
    "print(proj_df.head())"
   ]
  },
  {
   "cell_type": "code",
   "execution_count": null,
   "metadata": {},
   "outputs": [],
   "source": [
    "# rankings\n",
    "try:\n",
    "    df_csv = pd.read_csv(RANKING_FILE)\n",
    "    col_list = ['RK', 'PLAYER NAME', 'TEAM', 'POS', 'BEST', 'WORST', 'AVG.', 'STD.DEV', 'ECR VS. ADP']\n",
    "    col_rename = {\n",
    "        'RK': 'rank',\n",
    "        'PLAYER NAME': 'plyr',\n",
    "        'TEAM': 'team',\n",
    "        'POS': 'pos_and_rank',\n",
    "        'BEST': 'best',\n",
    "        'WORST': 'worst',\n",
    "        'AVG.': 'avg',\n",
    "        'STD.DEV': 'std_dev',\n",
    "        'ECR VS. ADP': 'ecr_adp',\n",
    "    }\n",
    "    rank_df_raw = df_csv[col_list].copy()\n",
    "    rank_df_raw.rename(columns=col_rename, inplace=True)\n",
    "    print(rank_df_raw['pos_and_rank'].dtype)\n",
    "    rank_df_raw['pos'] = rank_df_raw['pos_and_rank'].replace('(\\d)', '', regex=True).str.lower()\n",
    "    rank_df_raw['pos_rank'] = rank_df_raw['pos_and_rank'].str.extract('(\\d+)')\n",
    "    rank_df_raw.drop(columns=['pos_and_rank'], inplace=True)\n",
    "    rank_df_raw['year'] = str(YEAR)\n",
    "    rank_df_raw['year-plyr-pos'] = rank_df_raw['year'] + '-' + rank_df_raw['plyr'] + '-' + rank_df_raw['pos']\n",
    "    rank_df_raw['year-plyr-pos-team'] = rank_df_raw['year'] + '-' + rank_df_raw['plyr'] + '-' + rank_df_raw['pos'] + '-' + rank_df_raw['team']\n",
    "    rank_df_raw = rank_df_raw.replace(',','',regex=True)\n",
    "except FileNotFoundError:\n",
    "    rank_df_raw = pd.DataFrame()\n",
    "print(rank_df_raw.head(5))\n",
    "print(rank_df_raw.shape)"
   ]
  },
  {
   "cell_type": "code",
   "execution_count": null,
   "metadata": {},
   "outputs": [],
   "source": [
    "# format rank_df\n",
    "RANK_COLUMNS = [\n",
    "    'year', 'plyr', 'pos', 'team', 'year-plyr-pos', 'year-plyr-pos-team',\n",
    "    'rank', 'pos_rank',\n",
    "    'best', 'worst', 'avg', 'std_dev', 'ecr_adp'\n",
    "]\n",
    "rank_df = pd.DataFrame(columns=RANK_COLUMNS)\n",
    "rank_df = pd.concat([rank_df, rank_df_raw])\n",
    "rank_df.fillna(0, inplace=True)\n",
    "rank_df.set_index('year-plyr-pos-team', inplace=True)\n",
    "print(rank_df.head(5))\n",
    "print(rank_df.shape)"
   ]
  },
  {
   "cell_type": "code",
   "execution_count": null,
   "metadata": {},
   "outputs": [],
   "source": [
    "# make sure columns are correct dtypes\n",
    "for column in list(rank_df.columns):\n",
    "    try:\n",
    "        rank_df = rank_df.astype({column: 'float32'})\n",
    "    except ValueError:\n",
    "        continue\n",
    "rank_df.dtypes"
   ]
  },
  {
   "cell_type": "code",
   "execution_count": null,
   "metadata": {},
   "outputs": [],
   "source": [
    "# convert ranks to points\n",
    "TOP_RANK_SCORE = 300\n",
    "rank_df['avg_score'] = TOP_RANK_SCORE - rank_df['avg']\n",
    "rank_df[rank_df['avg_score'] < 0] = 0\n",
    "rank_df['pos_rank_score'] = TOP_RANK_SCORE - rank_df['pos_rank']\n",
    "rank_df[rank_df['pos_rank_score'] < 0] = 0\n",
    "print(rank_df.head(5))\n",
    "print(rank_df.shape)"
   ]
  },
  {
   "cell_type": "code",
   "execution_count": null,
   "metadata": {},
   "outputs": [],
   "source": [
    "# adp std\n",
    "try:\n",
    "    df_csv = pd.read_csv(ADP_STD_FILE)\n",
    "    col_list = ['Player', 'Team', 'POS', 'AVG']\n",
    "    col_rename = {\n",
    "        'Player': 'plyr',\n",
    "        'Team': 'team',\n",
    "        'POS': 'pos_and_rank',\n",
    "        'AVG': 'avg',\n",
    "    }\n",
    "    adp_std_df = df_csv[col_list].copy()\n",
    "    adp_std_df.rename(columns=col_rename, inplace=True)\n",
    "    adp_std_df['pos'] = adp_std_df['pos_and_rank'].replace('(\\d)', '', regex=True).str.lower()\n",
    "    adp_std_df['pos_rank'] = adp_std_df['pos_and_rank'].str.extract('(\\d+)')\n",
    "    adp_std_df.drop(columns=['pos_and_rank'], inplace=True)\n",
    "    adp_std_df['year'] = str(YEAR)\n",
    "    adp_std_df['year-plyr-pos'] = adp_std_df['year'] + '-' + adp_std_df['plyr'] + '-' + adp_std_df['pos']\n",
    "    adp_std_df['year-plyr-pos-team'] = adp_std_df['year'] + '-' + adp_std_df['plyr'] + '-' + adp_std_df['pos'] + '-' + adp_std_df['team']\n",
    "    adp_std_df = adp_std_df.replace(',','',regex=True)\n",
    "except FileNotFoundError:\n",
    "    adp_std_df = pd.DataFrame()\n",
    "print(adp_std_df.head(5))\n",
    "print(adp_std_df.shape)"
   ]
  },
  {
   "cell_type": "code",
   "execution_count": null,
   "metadata": {},
   "outputs": [],
   "source": [
    "# adp ppr\n",
    "try:\n",
    "    df_csv = pd.read_csv(ADP_PPR_FILE)\n",
    "    col_list = ['Player', 'Team', 'POS', 'AVG']\n",
    "    col_rename = {\n",
    "        'Player': 'plyr',\n",
    "        'Team': 'team',\n",
    "        'POS': 'pos_and_rank',\n",
    "        'AVG': 'avg',\n",
    "    }\n",
    "    adp_ppr_df = df_csv[col_list].copy()\n",
    "    adp_ppr_df.rename(columns=col_rename, inplace=True)\n",
    "    adp_ppr_df['pos'] = adp_ppr_df['pos_and_rank'].replace('(\\d)', '', regex=True).str.lower()\n",
    "    adp_ppr_df['pos_rank'] = adp_ppr_df['pos_and_rank'].str.extract('(\\d+)')\n",
    "    adp_ppr_df.drop(columns=['pos_and_rank'], inplace=True)\n",
    "    adp_ppr_df['year'] = str(YEAR)\n",
    "    adp_ppr_df['year-plyr-pos'] = adp_ppr_df['year'] + '-' + adp_ppr_df['plyr'] + '-' + adp_ppr_df['pos']\n",
    "    adp_ppr_df['year-plyr-pos-team'] = adp_ppr_df['year'] + '-' + adp_ppr_df['plyr'] + '-' + adp_ppr_df['pos'] + '-' + adp_ppr_df['team']\n",
    "    adp_ppr_df = adp_ppr_df.replace(',','',regex=True)\n",
    "except FileNotFoundError:\n",
    "    adp_ppr_df = pd.DataFrame()\n",
    "print(adp_ppr_df.head(5))\n",
    "print(adp_ppr_df.shape)"
   ]
  },
  {
   "cell_type": "code",
   "execution_count": null,
   "metadata": {},
   "outputs": [],
   "source": [
    "# adp half\n",
    "try:\n",
    "    df_csv = pd.read_csv(ADP_HALF_FILE)\n",
    "    col_list = ['Player', 'Team', 'POS', 'AVG']\n",
    "    col_rename = {\n",
    "        'Player': 'plyr',\n",
    "        'Team': 'team',\n",
    "        'POS': 'pos_and_rank',\n",
    "        'AVG': 'avg',\n",
    "    }\n",
    "    adp_half_df = df_csv[col_list].copy()\n",
    "    adp_half_df.rename(columns=col_rename, inplace=True)\n",
    "    adp_half_df['pos'] = adp_half_df['pos_and_rank'].replace('(\\d)', '', regex=True).str.lower()\n",
    "    adp_half_df['pos_rank'] = adp_half_df['pos_and_rank'].str.extract('(\\d+)')\n",
    "    adp_half_df.drop(columns=['pos_and_rank'], inplace=True)\n",
    "    adp_half_df['year'] = str(YEAR)\n",
    "    adp_half_df['year-plyr-pos'] = adp_half_df['year'] + '-' + adp_half_df['plyr'] + '-' + adp_half_df['pos']\n",
    "    adp_half_df['year-plyr-pos-team'] = adp_half_df['year'] + '-' + adp_half_df['plyr'] + '-' + adp_half_df['pos'] + '-' + adp_half_df['team']\n",
    "    adp_half_df = adp_half_df.replace(',','',regex=True)\n",
    "except FileNotFoundError:\n",
    "    adp_half_df = pd.DataFrame()\n",
    "print(adp_half_df.head(5))\n",
    "print(adp_half_df.shape)"
   ]
  },
  {
   "cell_type": "code",
   "execution_count": null,
   "metadata": {},
   "outputs": [],
   "source": [
    "# format adp df\n",
    "adp_concat = pd.concat([adp_std_df, adp_ppr_df])\n",
    "adp_concat['pos_rank'] = adp_concat['pos_rank'].astype('float64')\n",
    "adp_concat['avg'] = adp_concat['avg'].astype('float64')\n",
    "adp_df_raw = adp_concat.groupby(['year-plyr-pos-team', 'plyr', 'team', 'pos', 'year', 'year-plyr-pos']).agg(\n",
    "    {'avg': 'mean', 'pos_rank': 'mean'}\n",
    ")\n",
    "adp_df_raw.reset_index(inplace=True)\n",
    "if adp_half_df.size > 0:\n",
    "    adp_concat = pd.concat([adp_df_raw, adp_half_df])\n",
    "    adp_concat['pos_rank'] = adp_concat['pos_rank'].astype('float64')\n",
    "    adp_concat['avg'] = adp_concat['avg'].astype('float64')\n",
    "    adp_df_raw = adp_concat.groupby(['year-plyr-pos-team', 'plyr', 'team', 'pos', 'year', 'year-plyr-pos']).agg(\n",
    "        {'avg': 'mean', 'pos_rank': 'mean'}\n",
    "    )\n",
    "    adp_df_raw.reset_index(inplace=True)\n",
    "else:\n",
    "    pass\n",
    "ADP_COLUMNS = [\n",
    "    'year-plyr-pos-team', 'year', 'plyr', 'pos', 'team', 'year-plyr-pos',\n",
    "    'pos_rank', 'avg'\n",
    "]\n",
    "adp_df = pd.DataFrame(columns=ADP_COLUMNS)\n",
    "adp_df = pd.concat([adp_df, adp_df_raw])\n",
    "adp_df.set_index('year-plyr-pos-team', inplace=True)\n",
    "adp_df.sort_values(by=['avg'], inplace=True)\n",
    "print(adp_df.head(5))\n",
    "print(adp_df.shape)"
   ]
  },
  {
   "cell_type": "code",
   "execution_count": null,
   "metadata": {},
   "outputs": [],
   "source": [
    "# make sure columns are correct dtypes\n",
    "for column in list(adp_df.columns):\n",
    "    try:\n",
    "        adp_df = adp_df.astype({column: 'float32'})\n",
    "    except ValueError:\n",
    "        continue\n",
    "adp_df.dtypes"
   ]
  },
  {
   "cell_type": "code",
   "execution_count": null,
   "metadata": {},
   "outputs": [],
   "source": [
    "# convert adp to scores\n",
    "TOP_ADP_SCORE = 300\n",
    "adp_df['avg_score'] = TOP_ADP_SCORE - adp_df['avg']\n",
    "adp_df[adp_df['avg_score'] < 0] = 0\n",
    "adp_df['pos_rank_score'] = TOP_ADP_SCORE - adp_df['pos_rank']\n",
    "adp_df[adp_df['pos_rank_score'] < 0] = 0\n",
    "print(adp_df.head(5))\n",
    "print(adp_df.shape)"
   ]
  },
  {
   "cell_type": "code",
   "execution_count": null,
   "metadata": {},
   "outputs": [],
   "source": [
    "proj_df = proj_df[~proj_df.index.duplicated(keep='first')]\n",
    "rank_df = rank_df[~rank_df.index.duplicated(keep='first')]\n",
    "adp_df = adp_df[~adp_df.index.duplicated(keep='first')]\n",
    "\n",
    "print(proj_df.shape)\n",
    "print(rank_df.shape)\n",
    "print(adp_df.shape)"
   ]
  },
  {
   "cell_type": "code",
   "execution_count": null,
   "metadata": {},
   "outputs": [],
   "source": [
    "db_file = f'{ROOT_DIR}/ff_ml.db'\n",
    "conn = sqlite3.connect(db_file)"
   ]
  },
  {
   "cell_type": "code",
   "execution_count": null,
   "metadata": {},
   "outputs": [],
   "source": [
    "proj_df.to_sql('projections_current', conn, if_exists='replace')"
   ]
  },
  {
   "cell_type": "code",
   "execution_count": null,
   "metadata": {},
   "outputs": [],
   "source": [
    "rank_df.to_sql('ranks_current', conn, if_exists='replace')"
   ]
  },
  {
   "cell_type": "code",
   "execution_count": null,
   "metadata": {},
   "outputs": [],
   "source": [
    "adp_df.to_sql('adps_current', conn, if_exists='replace')"
   ]
  },
  {
   "cell_type": "code",
   "execution_count": null,
   "metadata": {},
   "outputs": [],
   "source": [
    "conn.close()"
   ]
  },
  {
   "cell_type": "code",
   "execution_count": null,
   "metadata": {},
   "outputs": [],
   "source": []
  }
 ],
 "metadata": {
  "kernelspec": {
   "display_name": "ff_ml",
   "language": "python",
   "name": "python3"
  },
  "language_info": {
   "codemirror_mode": {
    "name": "ipython",
    "version": 3
   },
   "file_extension": ".py",
   "mimetype": "text/x-python",
   "name": "python",
   "nbconvert_exporter": "python",
   "pygments_lexer": "ipython3",
   "version": "3.12.4"
  },
  "orig_nbformat": 4
 },
 "nbformat": 4,
 "nbformat_minor": 2
}
